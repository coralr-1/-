{
 "cells": [
  {
   "cell_type": "code",
   "execution_count": 10,
   "id": "fbd4b10b",
   "metadata": {},
   "outputs": [
    {
     "name": "stdout",
     "output_type": "stream",
     "text": [
      "Defaulting to user installation because normal site-packages is not writeable\n",
      "Looking in indexes: https://pypi.doubanio.com/simple\n",
      "Collecting snownlp\n",
      "  Downloading https://mirrors.cloud.tencent.com/pypi/packages/3d/b3/37567686662100d3bce62d3b0f2adec18ab4b9ff2b61abd7a61c39343c1d/snownlp-0.12.3.tar.gz (37.6 MB)\n",
      "     ---------------------------------------- 0.0/37.6 MB ? eta -:--:--\n",
      "     -- ------------------------------------- 2.1/37.6 MB 13.0 MB/s eta 0:00:03\n",
      "     ----- ---------------------------------- 4.7/37.6 MB 11.9 MB/s eta 0:00:03\n",
      "     ------- -------------------------------- 7.3/37.6 MB 11.9 MB/s eta 0:00:03\n",
      "     ---------- ----------------------------- 9.4/37.6 MB 11.7 MB/s eta 0:00:03\n",
      "     ---------- ---------------------------- 10.5/37.6 MB 10.9 MB/s eta 0:00:03\n",
      "     ------------ --------------------------- 11.8/37.6 MB 9.5 MB/s eta 0:00:03\n",
      "     ------------- -------------------------- 12.6/37.6 MB 8.8 MB/s eta 0:00:03\n",
      "     -------------- ------------------------- 13.6/37.6 MB 8.5 MB/s eta 0:00:03\n",
      "     --------------- ------------------------ 14.4/37.6 MB 7.9 MB/s eta 0:00:03\n",
      "     ---------------- ----------------------- 15.2/37.6 MB 7.5 MB/s eta 0:00:03\n",
      "     ----------------- ---------------------- 16.3/37.6 MB 7.1 MB/s eta 0:00:04\n",
      "     ------------------ --------------------- 17.6/37.6 MB 7.1 MB/s eta 0:00:03\n",
      "     -------------------- ------------------- 18.9/37.6 MB 6.9 MB/s eta 0:00:03\n",
      "     --------------------- ------------------ 20.4/37.6 MB 6.9 MB/s eta 0:00:03\n",
      "     ----------------------- ---------------- 21.8/37.6 MB 6.9 MB/s eta 0:00:03\n",
      "     ------------------------ --------------- 23.3/37.6 MB 6.9 MB/s eta 0:00:03\n",
      "     -------------------------- ------------- 24.9/37.6 MB 6.9 MB/s eta 0:00:02\n",
      "     --------------------------- ------------ 25.7/37.6 MB 6.7 MB/s eta 0:00:02\n",
      "     ---------------------------- ----------- 27.3/37.6 MB 6.8 MB/s eta 0:00:02\n",
      "     ------------------------------ --------- 29.1/37.6 MB 6.9 MB/s eta 0:00:02\n",
      "     -------------------------------- ------- 30.7/37.6 MB 6.9 MB/s eta 0:00:02\n",
      "     ---------------------------------- ----- 32.2/37.6 MB 6.9 MB/s eta 0:00:01\n",
      "     ----------------------------------- ---- 33.3/37.6 MB 6.9 MB/s eta 0:00:01\n",
      "     ----------------------------------- ---- 33.3/37.6 MB 6.9 MB/s eta 0:00:01\n",
      "     ----------------------------------- ---- 33.3/37.6 MB 6.9 MB/s eta 0:00:01\n",
      "     ----------------------------------- ---- 33.8/37.6 MB 6.2 MB/s eta 0:00:01\n",
      "     ------------------------------------- -- 35.4/37.6 MB 6.2 MB/s eta 0:00:01\n",
      "     ---------------------------------------  37.0/37.6 MB 6.2 MB/s eta 0:00:01\n",
      "     ---------------------------------------- 37.6/37.6 MB 6.2 MB/s eta 0:00:00\n",
      "  Preparing metadata (setup.py): started\n",
      "  Preparing metadata (setup.py): finished with status 'done'\n",
      "Building wheels for collected packages: snownlp\n",
      "  Building wheel for snownlp (setup.py): started\n",
      "  Building wheel for snownlp (setup.py): finished with status 'done'\n",
      "  Created wheel for snownlp: filename=snownlp-0.12.3-py3-none-any.whl size=37760953 sha256=f4c1005c717c0eb75a83e5f6d50d9687cee4c04d055845a42a35127bfbcac67f\n",
      "  Stored in directory: c:\\users\\23995\\appdata\\local\\pip\\cache\\wheels\\3d\\49\\61\\3e1d872372118df8aa6990b61670bf2f5c470c69f1a2a09379\n",
      "Successfully built snownlp\n",
      "Installing collected packages: snownlp\n",
      "Successfully installed snownlp-0.12.3\n"
     ]
    },
    {
     "name": "stderr",
     "output_type": "stream",
     "text": [
      "DEPRECATION: Loading egg at c:\\programdata\\anaconda3\\lib\\site-packages\\vboxapi-1.0-py3.11.egg is deprecated. pip 24.3 will enforce this behaviour change. A possible replacement is to use pip for package installation. Discussion can be found at https://github.com/pypa/pip/issues/12330\n"
     ]
    }
   ],
   "source": [
    "!pip install snownlp\n"
   ]
  },
  {
   "cell_type": "code",
   "execution_count": 11,
   "id": "c17095ff",
   "metadata": {},
   "outputs": [
    {
     "name": "stdout",
     "output_type": "stream",
     "text": [
      "Defaulting to user installation because normal site-packages is not writeable\n",
      "Looking in indexes: https://pypi.doubanio.com/simple\n",
      "Requirement already satisfied: pip in c:\\users\\23995\\appdata\\roaming\\python\\python311\\site-packages (24.2)\n"
     ]
    },
    {
     "name": "stderr",
     "output_type": "stream",
     "text": [
      "DEPRECATION: Loading egg at c:\\programdata\\anaconda3\\lib\\site-packages\\vboxapi-1.0-py3.11.egg is deprecated. pip 24.3 will enforce this behaviour change. A possible replacement is to use pip for package installation. Discussion can be found at https://github.com/pypa/pip/issues/12330\n"
     ]
    }
   ],
   "source": [
    "!pip install --upgrade pip --no-warn-script-location\n"
   ]
  },
  {
   "cell_type": "code",
   "execution_count": 12,
   "id": "04c144c8",
   "metadata": {},
   "outputs": [
    {
     "name": "stdout",
     "output_type": "stream",
     "text": [
      "0.7757338802735868\n"
     ]
    }
   ],
   "source": [
    "from snownlp import SnowNLP\n",
    "\n",
    "# 测试情感分析\n",
    "s = SnowNLP(\"我今天心情很好！\")\n",
    "print(s.sentiments)  # 输出情感分析结果===测试\n"
   ]
  },
  {
   "cell_type": "code",
   "execution_count": 8,
   "id": "1d54bb3f",
   "metadata": {},
   "outputs": [
    {
     "name": "stdout",
     "output_type": "stream",
     "text": [
      "                 comment_id    create_time ip_location  \\\n",
      "0  6447d0e80000000015023333  1682428136000         NaN   \n",
      "1  645c4bc40000000017007bb8  1683770308000         NaN   \n",
      "2  644746710000000018039d27  1682392689000         NaN   \n",
      "3  655f2c450000000032034ccf  1700736069000         NaN   \n",
      "4  644960050000000006020fc8  1682530309000         NaN   \n",
      "\n",
      "                    note_id  \\\n",
      "0  644085280000000027000968   \n",
      "1  644085280000000027000968   \n",
      "2  644085280000000027000968   \n",
      "3  644085280000000027000968   \n",
      "4  644085280000000027000968   \n",
      "\n",
      "                                             content  \\\n",
      "0                          Stable diffusion的最大特色没说出来   \n",
      "1  目前所谓的ai创作，其实是通过网络窃取数亿优秀艺术作品作为训练数据才能生成作品的。这种不尊重...   \n",
      "2                                               收费吗？   \n",
      "3  问就是stable  diffusion最好，上限高，mj下限高，但是上限低，且收费离谱，m...   \n",
      "4                                            都是需要收费的   \n",
      "\n",
      "                    user_id  nickname  \\\n",
      "0  5bbc09b0219cd90001f0ae6b     苏打斯涅の   \n",
      "1  611070f0000000000100b67a        微末   \n",
      "2  62a59cf20000000019029201  吃清蒸鱼的鱼喵喵   \n",
      "3  6157e0320000000002019055  CrazyZrp   \n",
      "4  5f09e3770000000001007ad2       韭菜粿   \n",
      "\n",
      "                                              avatar  sub_comment_count  \\\n",
      "0  https://sns-avatar-qc.xhscdn.com/avatar/1040g2...                 35   \n",
      "1  https://sns-avatar-qc.xhscdn.com/avatar/53ba17...                 56   \n",
      "2  https://sns-avatar-qc.xhscdn.com/avatar/1000g2...                 35   \n",
      "3  https://sns-avatar-qc.xhscdn.com/avatar/1000g2...                  6   \n",
      "4  https://sns-avatar-qc.xhscdn.com/avatar/1040g2...                  9   \n",
      "\n",
      "  pictures  parent_comment_id  last_modify_ts  like_count  \n",
      "0      NaN                  0   1726237236053         244  \n",
      "1      NaN                  0   1726237236054         397  \n",
      "2      NaN                  0   1726237236069          51  \n",
      "3      NaN                  0   1726237236083          42  \n",
      "4      NaN                  0   1726237236102          37  \n"
     ]
    }
   ],
   "source": [
    "import pandas as pd\n",
    "import re\n",
    "import random\n",
    "\n",
    "# 读取评论数据 CSV 文件\n",
    "comments_df = pd.read_csv('comments.csv')  # 替换为你的 CSV 文件名\n",
    "\n",
    "# 定义一些中立句子\n",
    "neutral_sentences = [\n",
    "    \"这个产品还可以。\",\n",
    "    \"评论没有更多详细内容。\",\n",
    "    \"暂时没有意见。\",\n",
    "    \"一般般，没有特别感受。\",\n",
    "    \"这个还需要再看看。\"\n",
    "]\n",
    "\n",
    "# 定义数据清洗函数\n",
    "def clean_text(text):\n",
    "    if not isinstance(text, str):\n",
    "        return text\n",
    "\n",
    "    # 1. 清除表情\n",
    "    emoji_pattern = re.compile(\n",
    "        \"[\"\n",
    "        u\"\\U0001F600-\\U0001F64F\"  # 表情符号\n",
    "        u\"\\U0001F300-\\U0001F5FF\"  # 符号 & 标志\n",
    "        u\"\\U0001F680-\\U0001F6FF\"  # 运输 & 地标\n",
    "        u\"\\U0001F1E0-\\U0001F1FF\"  # 国旗\n",
    "        \"]+\", flags=re.UNICODE)\n",
    "    text = emoji_pattern.sub(r'', text)\n",
    "\n",
    "    # 2. 清除 URL\n",
    "    url_pattern = re.compile(r'http[s]?://\\S+|www\\.\\S+')\n",
    "    text = url_pattern.sub(r'', text)\n",
    "\n",
    "    # 3. 将“求”替换为“好”\n",
    "    text = text.replace(\"求\", \"好\")\n",
    "\n",
    "    # 4. 删除所有括号及其内容\n",
    "    bracket_pattern = re.compile(r'\\[.*?\\]|\\(.*?\\)|\\{.*?\\}|\\【.*?\\】')\n",
    "    text = bracket_pattern.sub(r'', text)\n",
    "    \n",
    "    return text\n",
    "\n",
    "# 应用清洗函数并替换 content 列\n",
    "comments_df['content'] = comments_df['content'].apply(clean_text)\n",
    "\n",
    "# 检查清洗后的 content 列是否为空或非字符串，如果为空或非字符串则随机替换为中立句子\n",
    "comments_df['content'] = comments_df['content'].apply(lambda x: random.choice(neutral_sentences) if not isinstance(x, str) or x.strip() == '' else x)\n",
    "\n",
    "# 保存清洗后的数据为新文件，命名为 'cleaned_comments.csv'\n",
    "comments_df.to_csv('cleaned_comments.csv', index=False, encoding='utf-8-sig')\n",
    "\n",
    "# 打印前几行检查结果\n",
    "print(comments_df.head())\n"
   ]
  },
  {
   "cell_type": "code",
   "execution_count": 10,
   "id": "7ee04a7c",
   "metadata": {},
   "outputs": [
    {
     "name": "stdout",
     "output_type": "stream",
     "text": [
      "                    note_id  \\\n",
      "0  644085280000000027000968   \n",
      "1  644085280000000027000968   \n",
      "2  644085280000000027000968   \n",
      "3  644085280000000027000968   \n",
      "4  644085280000000027000968   \n",
      "\n",
      "                                             content sentiment_class  \\\n",
      "0                          Stable diffusion的最大特色没说出来         neutral   \n",
      "1  目前所谓的ai创作，其实是通过网络窃取数亿优秀艺术作品作为训练数据才能生成作品的。这种不尊重...        positive   \n",
      "2                                               收费吗？        negative   \n",
      "3  问就是stable  diffusion最好，上限高，mj下限高，但是上限低，且收费离谱，m...        negative   \n",
      "4                                            都是需要收费的        negative   \n",
      "\n",
      "   last_modify_ts_y    create_time    type liked_count  comment_count  \n",
      "0     1726237235016  1682428136000  normal        3.8万            537  \n",
      "1     1726237235016  1683770308000  normal        3.8万            537  \n",
      "2     1726237235016  1682392689000  normal        3.8万            537  \n",
      "3     1726237235016  1700736069000  normal        3.8万            537  \n",
      "4     1726237235016  1682530309000  normal        3.8万            537  \n"
     ]
    }
   ],
   "source": [
    "import pandas as pd\n",
    "from snownlp import SnowNLP\n",
    "\n",
    "# 加载评论和作品数据\n",
    "comments_df = pd.read_csv('cleaned_comments.csv')  # 替换为您的评论数据文件名\n",
    "contents_df = pd.read_csv('contents.csv')  # 替换为您的作品数据文件名\n",
    "\n",
    "# 定义情感分类函数\n",
    "def classify_sentiment(text):\n",
    "    # 过滤空字符串和无效输入\n",
    "    if not isinstance(text, str) or text.strip() == '':\n",
    "        return \"neutral\"  # 将空白评论或无效输入视为“中立”\n",
    "    s = SnowNLP(text)\n",
    "    score = s.sentiments\n",
    "    if score > 0.6:\n",
    "        return \"positive\"\n",
    "    elif score < 0.4:\n",
    "        return \"negative\"\n",
    "    else:\n",
    "        return \"neutral\"\n",
    "\n",
    "# 合并评论数据和作品数据，使用 note_id 作为键\n",
    "merged_df = pd.merge(comments_df, contents_df, on='note_id', how='left')\n",
    "\n",
    "# 将非字符串类型的内容转换为字符串，并处理 NaN 值\n",
    "merged_df['content'] = merged_df['content'].fillna('').astype(str)\n",
    "\n",
    "# 应用情感分类到每个评论\n",
    "merged_df['sentiment_class'] = merged_df['content'].apply(classify_sentiment)\n",
    "\n",
    "# 选择需要的列并保持原始的列名\n",
    "final_df = merged_df[['note_id', 'content', 'sentiment_class', 'last_modify_ts_y', 'create_time', \n",
    "                      'type', 'liked_count', 'comment_count']]\n",
    "\n",
    "# 保存结果为新的 CSV 文件，使用 utf-8-sig 编码\n",
    "final_df.to_csv('sentiment_analysis_results.csv', index=False, encoding='utf-8-sig')\n",
    "\n",
    "# 打印前几行结果以检查\n",
    "print(final_df.head())\n"
   ]
  },
  {
   "cell_type": "code",
   "execution_count": 13,
   "id": "e2e76e49",
   "metadata": {},
   "outputs": [
    {
     "name": "stdout",
     "output_type": "stream",
     "text": [
      "sentiment_class\n",
      "positive    6054\n",
      "negative    3025\n",
      "neutral     2401\n",
      "Name: count, dtype: int64\n"
     ]
    }
   ],
   "source": [
    "# 导入需要的库\n",
    "import pandas as pd\n",
    "\n",
    "# 读取 CSV 文件\n",
    "df = pd.read_csv('sentiment_analysis_results.csv')\n",
    "\n",
    "# 统计情感分类的分布\n",
    "sentiment_distribution = df['sentiment_class'].value_counts()\n",
    "print(sentiment_distribution)\n",
    "\n"
   ]
  },
  {
   "cell_type": "code",
   "execution_count": 14,
   "id": "c5cf71d5",
   "metadata": {},
   "outputs": [
    {
     "name": "stdout",
     "output_type": "stream",
     "text": [
      "Average Likes by Sentiment Class:\n",
      "sentiment_class\n",
      "negative    4174.028099\n",
      "neutral     4712.450229\n",
      "positive    2861.281467\n",
      "Name: liked_count, dtype: float64\n",
      "\n",
      "Average Comments by Sentiment Class:\n",
      "sentiment_class\n",
      "negative    1162.721983\n",
      "neutral      960.760933\n",
      "positive    1056.120581\n",
      "Name: comment_count, dtype: float64\n"
     ]
    }
   ],
   "source": [
    "# 将 'liked_count' 转换为数值，去除 '万' 等单位\n",
    "df['liked_count'] = df['liked_count'].apply(lambda x: float(str(x).replace('万', '')) * 10000 if '万' in str(x) else float(x))\n",
    "\n",
    "# 计算不同情感分类下的平均点赞数和评论数\n",
    "average_likes = df.groupby('sentiment_class')['liked_count'].mean()\n",
    "average_comments = df.groupby('sentiment_class')['comment_count'].mean()\n",
    "\n",
    "print(\"Average Likes by Sentiment Class:\")\n",
    "print(average_likes)\n",
    "\n",
    "print(\"\\nAverage Comments by Sentiment Class:\")\n",
    "print(average_comments)\n"
   ]
  },
  {
   "cell_type": "code",
   "execution_count": 15,
   "id": "37a8a360",
   "metadata": {},
   "outputs": [
    {
     "name": "stdout",
     "output_type": "stream",
     "text": [
      "sentiment_class  negative  neutral  positive\n",
      "type                                        \n",
      "normal               2997     2373      5927\n",
      "video                  28       28       127\n"
     ]
    }
   ],
   "source": [
    "# 分组统计不同作品类型下的情感分类分布\n",
    "type_sentiment_distribution = df.groupby('type')['sentiment_class'].value_counts().unstack()\n",
    "print(type_sentiment_distribution)\n"
   ]
  },
  {
   "cell_type": "code",
   "execution_count": 16,
   "id": "d5ec1dbc",
   "metadata": {},
   "outputs": [
    {
     "data": {
      "image/png": "[encoded data removed]",
      "text/plain": [
       "<Figure size 640x480 with 1 Axes>"
      ]
     },
     "metadata": {},
     "output_type": "display_data"
    }
   ],
   "source": [
    "import matplotlib.pyplot as plt\n",
    "\n",
    "# 绘制情感分类分布的柱状图\n",
    "sentiment_distribution.plot(kind='bar', color=['green', 'red', 'blue'])\n",
    "plt.title('Sentiment Distribution')\n",
    "plt.xlabel('Sentiment Class')\n",
    "plt.ylabel('Count')\n",
    "plt.show()\n"
   ]
  },
  {
   "cell_type": "code",
   "execution_count": null,
   "id": "94bfb30d",
   "metadata": {},
   "outputs": [],
   "source": []
  }
 ],
 "metadata": {
  "kernelspec": {
   "display_name": "Python 3 (ipykernel)",
   "language": "python",
   "name": "python3"
  },
  "language_info": {
   "codemirror_mode": {
    "name": "ipython",
    "version": 3
   },
   "file_extension": ".py",
   "mimetype": "text/x-python",
   "name": "python",
   "nbconvert_exporter": "python",
   "pygments_lexer": "ipython3",
   "version": "3.11.5"
  }
 },
 "nbformat": 4,
 "nbformat_minor": 5
}
